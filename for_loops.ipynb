{
  "nbformat": 4,
  "nbformat_minor": 0,
  "metadata": {
    "colab": {
      "provenance": [],
      "authorship_tag": "ABX9TyMTK8EUQXmT+S0snIjlCSm5",
      "include_colab_link": true
    },
    "kernelspec": {
      "name": "python3",
      "display_name": "Python 3"
    },
    "language_info": {
      "name": "python"
    }
  },
  "cells": [
    {
      "cell_type": "markdown",
      "metadata": {
        "id": "view-in-github",
        "colab_type": "text"
      },
      "source": [
        "<a href=\"https://colab.research.google.com/github/naveedmohd/python-programming/blob/release/for_loops.ipynb\" target=\"_parent\"><img src=\"https://colab.research.google.com/assets/colab-badge.svg\" alt=\"Open In Colab\"/></a>"
      ]
    },
    {
      "cell_type": "code",
      "execution_count": 4,
      "metadata": {
        "colab": {
          "base_uri": "https://localhost:8080/"
        },
        "id": "sbvMn_X2ERZX",
        "outputId": "4282972a-186b-4a12-d1b3-bf7f314ec732"
      },
      "outputs": [
        {
          "output_type": "stream",
          "name": "stdout",
          "text": [
            "['Monday', 'Tuesday', 'Wednesday', 'Thursday', 'Friday', 'Saturday', 'Sunday']\n",
            "Each day of the week is : Monday\n",
            "Each day of the week is : Tuesday\n",
            "Each day of the week is : Wednesday\n",
            "Each day of the week is : Thursday\n",
            "Each day of the week is : Friday\n",
            "Each day of the week is : Saturday\n",
            "Each day of the week is : Sunday\n"
          ]
        }
      ],
      "source": [
        "weekdays=[\"Monday\",\"Tuesday\",\"Wednesday\",\"Thursday\",\"Friday\",\"Saturday\",\"Sunday\"]\n",
        "print(weekdays)\n",
        "\n",
        "for i in weekdays:\n",
        "  print('Each day of the week is :',i)"
      ]
    },
    {
      "cell_type": "code",
      "source": [
        "weekdays= ((\"Monday\",\"01\"),(\"Tuesday\",\"02\"),(\"Wednesday\",\"03\")\n",
        "                    ,(\"Thursday\",\"04\"),(\"Friday\",\"05\"),(\"Saturday\",\"06\"),(\"Sunday\",\"07\"))\n",
        "\n",
        "print(weekdays)\n",
        "\n",
        "for weekday in weekdays:\n",
        "  print('Each day in the tuple is :', weekday)"
      ],
      "metadata": {
        "colab": {
          "base_uri": "https://localhost:8080/"
        },
        "id": "SUx29hTeF1Wm",
        "outputId": "41c2ca8e-21dc-4c5e-ca79-86bfb20d7ac8"
      },
      "execution_count": 6,
      "outputs": [
        {
          "output_type": "stream",
          "name": "stdout",
          "text": [
            "(('Monday', '01'), ('Tuesday', '02'), ('Wednesday', '03'), ('Thursday', '04'), ('Friday', '05'), ('Saturday', '06'), ('Sunday', '07'))\n",
            "Each day in the tuple is : ('Monday', '01')\n",
            "Each day in the tuple is : ('Tuesday', '02')\n",
            "Each day in the tuple is : ('Wednesday', '03')\n",
            "Each day in the tuple is : ('Thursday', '04')\n",
            "Each day in the tuple is : ('Friday', '05')\n",
            "Each day in the tuple is : ('Saturday', '06')\n",
            "Each day in the tuple is : ('Sunday', '07')\n"
          ]
        }
      ]
    },
    {
      "cell_type": "code",
      "source": [
        "my_dict = { \"student_id\" : 1000 \n",
        "           ,\"course_registered\" : \"Python Programming\"\n",
        "           ,\"credit_points\" : 4.0 \n",
        "           ,\"is_course_online\" : True\n",
        "           }\n",
        "\n",
        "for key in my_dict:\n",
        "  print('Key elements in the dictionary are :', key, ' and their values are : ',my_dict[key])"
      ],
      "metadata": {
        "colab": {
          "base_uri": "https://localhost:8080/"
        },
        "id": "s980PrFdJ00P",
        "outputId": "728e0d59-876e-4925-b34d-055633bef9d7"
      },
      "execution_count": 15,
      "outputs": [
        {
          "output_type": "stream",
          "name": "stdout",
          "text": [
            "Key elements in the dictionary are : student_id  and their values are :  1000\n",
            "Key elements in the dictionary are : course_registered  and their values are :  Python Programming\n",
            "Key elements in the dictionary are : credit_points  and their values are :  4.0\n",
            "Key elements in the dictionary are : is_course_online  and their values are :  True\n"
          ]
        }
      ]
    },
    {
      "cell_type": "code",
      "source": [
        "my_dict = { \"student_id\" : 1000 \n",
        "           ,\"course_registered\" : \"Python Programming\"\n",
        "           ,\"credit_points\" : 4.0 \n",
        "           ,\"is_course_online\" : True\n",
        "           }\n",
        "\n",
        "for key,value in my_dict.items():\n",
        "  print('Key elements in the dictionary are :', key, ' and their values are : ',value)"
      ],
      "metadata": {
        "colab": {
          "base_uri": "https://localhost:8080/"
        },
        "id": "iO_RDWyTKc-6",
        "outputId": "91c7a250-1e05-41de-8572-51c9c3033a97"
      },
      "execution_count": 16,
      "outputs": [
        {
          "output_type": "stream",
          "name": "stdout",
          "text": [
            "Key elements in the dictionary are : student_id  and their values are :  1000\n",
            "Key elements in the dictionary are : course_registered  and their values are :  Python Programming\n",
            "Key elements in the dictionary are : credit_points  and their values are :  4.0\n",
            "Key elements in the dictionary are : is_course_online  and their values are :  True\n"
          ]
        }
      ]
    },
    {
      "cell_type": "code",
      "source": [
        "my_dict = { \"student_id\" : 1000 \n",
        "           ,\"course_registered\" : \"Python Programming\"\n",
        "           ,\"credit_points\" : 4.0 \n",
        "           ,\"is_course_online\" : True\n",
        "           }\n",
        "my_new_dict={}\n",
        "print('New Dictionary Values are before copy:',my_new_dict)\n",
        "\n",
        "for key,value in my_dict.items():\n",
        "  my_new_dict[key]=value\n",
        "\n",
        "print('New Dictionary Values after copy are :',my_new_dict)"
      ],
      "metadata": {
        "colab": {
          "base_uri": "https://localhost:8080/"
        },
        "id": "265PSIRUMXJs",
        "outputId": "73c4e63f-a1ed-4fea-f449-16c50cc2ea93"
      },
      "execution_count": 20,
      "outputs": [
        {
          "output_type": "stream",
          "name": "stdout",
          "text": [
            "New Dictionary Values are before copy: {}\n",
            "New Dictionary Values after copy are : {'student_id': 1000, 'course_registered': 'Python Programming', 'credit_points': 4.0, 'is_course_online': True}\n"
          ]
        }
      ]
    },
    {
      "cell_type": "code",
      "source": [
        "mystr='Python'\n",
        "\n",
        "for c in mystr:\n",
        "  print('Each character in my string is :',c)"
      ],
      "metadata": {
        "colab": {
          "base_uri": "https://localhost:8080/"
        },
        "id": "cb02B7zrQ8LP",
        "outputId": "fc3e6e1d-b01f-4bf4-c9d2-c98258ad801c"
      },
      "execution_count": 32,
      "outputs": [
        {
          "output_type": "stream",
          "name": "stdout",
          "text": [
            "Each character in my string is : P\n",
            "Each character in my string is : y\n",
            "Each character in my string is : t\n",
            "Each character in my string is : h\n",
            "Each character in my string is : o\n",
            "Each character in my string is : n\n"
          ]
        }
      ]
    },
    {
      "cell_type": "code",
      "source": [
        "mystr='Python'\n",
        "\n",
        "for c in mystr[::-1]:\n",
        "  print('Characters in my string in reverse order are :',c)"
      ],
      "metadata": {
        "colab": {
          "base_uri": "https://localhost:8080/"
        },
        "id": "iF6PCZfQRdb6",
        "outputId": "73c9b72b-4894-44e0-8599-f4f7395f6e2d"
      },
      "execution_count": 33,
      "outputs": [
        {
          "output_type": "stream",
          "name": "stdout",
          "text": [
            "Characters in my string in reverse order are : n\n",
            "Characters in my string in reverse order are : o\n",
            "Characters in my string in reverse order are : h\n",
            "Characters in my string in reverse order are : t\n",
            "Characters in my string in reverse order are : y\n",
            "Characters in my string in reverse order are : P\n"
          ]
        }
      ]
    }
  ]
}