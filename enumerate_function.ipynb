{
  "nbformat": 4,
  "nbformat_minor": 0,
  "metadata": {
    "colab": {
      "provenance": [],
      "authorship_tag": "ABX9TyMH/h9zkue/03BfXZxzmkGi",
      "include_colab_link": true
    },
    "kernelspec": {
      "name": "python3",
      "display_name": "Python 3"
    },
    "language_info": {
      "name": "python"
    }
  },
  "cells": [
    {
      "cell_type": "markdown",
      "metadata": {
        "id": "view-in-github",
        "colab_type": "text"
      },
      "source": [
        "<a href=\"https://colab.research.google.com/github/naveedmohd/python-programming/blob/release/enumerate_function.ipynb\" target=\"_parent\"><img src=\"https://colab.research.google.com/assets/colab-badge.svg\" alt=\"Open In Colab\"/></a>"
      ]
    },
    {
      "cell_type": "code",
      "execution_count": null,
      "metadata": {
        "colab": {
          "base_uri": "https://localhost:8080/"
        },
        "id": "-A-zlCeyhH8I",
        "outputId": "1fc66653-5ddc-4e23-f61a-a72b5d086e15"
      },
      "outputs": [
        {
          "output_type": "stream",
          "name": "stdout",
          "text": [
            "Value of Index is : 0   and the name of the course is : Python Programming\n",
            "Value of Index is : 1   and the name of the course is : Java Programming\n",
            "Value of Index is : 2   and the name of the course is : Machine Learning\n",
            "Value of Index is : 3   and the name of the course is : Artificial Intelligence\n"
          ]
        }
      ],
      "source": [
        "course_desc=[\"Python Programming\",\"Java Programming\",\"Machine Learning\",\"Artificial Intelligence\"]\n",
        "\n",
        "for i,name in enumerate(course_desc):\n",
        "  print('Value of Index is :', i ,'  and the name of the course is :',name)"
      ]
    },
    {
      "cell_type": "code",
      "source": [
        "org_name=[\"Intel \",\"Facebook \",\"Google \",\"Twitter \",\"Apple \"]\n",
        "\n",
        "org_loc=[\"Santa Clara \",\"Menlo Park \",\"Mountain View \",\"San Francisco \",\"Cupertino \"]\n",
        "\n",
        "org_url=[\"www.intel.com\",\"www.facebook.com\",\"www.google.com\",\"www.twitter.com\",\"www.apple.com\"]\n",
        "\n",
        "orgnizations=[]\n",
        "\n",
        "for org in zip(org_name,org_loc,org_url):\n",
        "  orgnizations.append(\"{}{}{}\".format(*org))\n",
        "\n",
        "print(orgnizations)\n",
        "\n",
        "\n",
        "for i,orgs in enumerate(orgnizations):\n",
        "  print('Value of Index is :',i, ' and the org details are :',orgs)"
      ],
      "metadata": {
        "colab": {
          "base_uri": "https://localhost:8080/"
        },
        "id": "iivAG5CqhKo2",
        "outputId": "e77d4b8e-038c-4ace-d14a-cbc6b2b0cdfc"
      },
      "execution_count": null,
      "outputs": [
        {
          "output_type": "stream",
          "name": "stdout",
          "text": [
            "['Intel Santa Clara www.intel.com', 'Facebook Menlo Park www.facebook.com', 'Google Mountain View www.google.com', 'Twitter San Francisco www.twitter.com', 'Apple Cupertino www.apple.com']\n",
            "Value of Index is : 0  and the org details are : Intel Santa Clara www.intel.com\n",
            "Value of Index is : 1  and the org details are : Facebook Menlo Park www.facebook.com\n",
            "Value of Index is : 2  and the org details are : Google Mountain View www.google.com\n",
            "Value of Index is : 3  and the org details are : Twitter San Francisco www.twitter.com\n",
            "Value of Index is : 4  and the org details are : Apple Cupertino www.apple.com\n"
          ]
        }
      ]
    }
  ]
}