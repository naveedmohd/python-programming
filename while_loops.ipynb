{
  "nbformat": 4,
  "nbformat_minor": 0,
  "metadata": {
    "colab": {
      "provenance": [],
      "authorship_tag": "ABX9TyN2d9aBw0obIIPkz4OYX0kX",
      "include_colab_link": true
    },
    "kernelspec": {
      "name": "python3",
      "display_name": "Python 3"
    },
    "language_info": {
      "name": "python"
    }
  },
  "cells": [
    {
      "cell_type": "markdown",
      "metadata": {
        "id": "view-in-github",
        "colab_type": "text"
      },
      "source": [
        "<a href=\"https://colab.research.google.com/github/naveedmohd/python-programming/blob/release/while_loops.ipynb\" target=\"_parent\"><img src=\"https://colab.research.google.com/assets/colab-badge.svg\" alt=\"Open In Colab\"/></a>"
      ]
    },
    {
      "cell_type": "code",
      "source": [
        "while(5>10):\n",
        "  print(\"While Loop Session\")"
      ],
      "metadata": {
        "id": "4kEl-ydd62bI"
      },
      "execution_count": 5,
      "outputs": []
    },
    {
      "cell_type": "code",
      "execution_count": 7,
      "metadata": {
        "colab": {
          "base_uri": "https://localhost:8080/"
        },
        "id": "sbvMn_X2ERZX",
        "outputId": "a5124f51-7a50-4ce6-8e77-2bd9d70b986d"
      },
      "outputs": [
        {
          "output_type": "stream",
          "name": "stdout",
          "text": [
            "['Monday', 'Tuesday', 'Wednesday', 'Thursday', 'Friday', 'Saturday', 'Sunday']  length of the list is : 7\n",
            "Each element of list is : Monday\n",
            "Each element of list is : Tuesday\n",
            "Each element of list is : Wednesday\n",
            "Each element of list is : Thursday\n",
            "Each element of list is : Friday\n",
            "Each element of list is : Saturday\n",
            "Each element of list is : Sunday\n"
          ]
        }
      ],
      "source": [
        "weekdays=[\"Monday\",\"Tuesday\",\"Wednesday\",\"Thursday\",\"Friday\",\"Saturday\",\"Sunday\"]\n",
        "print(weekdays, ' length of the list is :', len(weekdays))\n",
        "\n",
        "i=0\n",
        "while(i<len(weekdays)):\n",
        "  print('Each element of list is :', weekdays[i])\n",
        "  i=i+1\n"
      ]
    },
    {
      "cell_type": "code",
      "source": [
        "weekdays= ((\"Monday\",\"01\"),(\"Tuesday\",\"02\"),(\"Wednesday\",\"03\")\n",
        "                    ,(\"Thursday\",\"04\"),(\"Friday\",\"05\"),(\"Saturday\",\"06\"),(\"Sunday\",\"07\"))\n",
        "\n",
        "print(weekdays, ' Length of list is :', len(weekdays))\n",
        "\n",
        "i=0\n",
        "while(i<len(weekdays)):\n",
        "  print('Element in my tuple variable is :', weekdays[i])\n",
        "  i=i+1"
      ],
      "metadata": {
        "colab": {
          "base_uri": "https://localhost:8080/"
        },
        "id": "SUx29hTeF1Wm",
        "outputId": "3b6d350a-71d9-44f3-96b5-934e3c4fa38b"
      },
      "execution_count": 10,
      "outputs": [
        {
          "output_type": "stream",
          "name": "stdout",
          "text": [
            "(('Monday', '01'), ('Tuesday', '02'), ('Wednesday', '03'), ('Thursday', '04'), ('Friday', '05'), ('Saturday', '06'), ('Sunday', '07'))  Length of list is : 7\n",
            "Element in my tuple variable is : ('Monday', '01')\n",
            "Element in my tuple variable is : ('Tuesday', '02')\n",
            "Element in my tuple variable is : ('Wednesday', '03')\n",
            "Element in my tuple variable is : ('Thursday', '04')\n",
            "Element in my tuple variable is : ('Friday', '05')\n",
            "Element in my tuple variable is : ('Saturday', '06')\n",
            "Element in my tuple variable is : ('Sunday', '07')\n"
          ]
        }
      ]
    },
    {
      "cell_type": "code",
      "source": [
        "my_dict = { \"student_id\" : 1000 \n",
        "           ,\"course_registered\" : \"Python Programming\"\n",
        "           ,\"credit_points\" : 4.0 \n",
        "           ,\"is_course_online\" : True\n",
        "           }\n",
        "i=0\n",
        "key=list(my_dict.keys())\n",
        "print('Length of key element is :',len(key))\n",
        "\n",
        "while(i<len(key)):\n",
        "  print('Key element is :', key[i], ' and the corresponding value is :',my_dict[key[i]])\n",
        "  i=i+1"
      ],
      "metadata": {
        "colab": {
          "base_uri": "https://localhost:8080/"
        },
        "id": "DRB2ugCwBCW4",
        "outputId": "67e2015b-ca61-4cde-aeb8-2dfb90319604"
      },
      "execution_count": 32,
      "outputs": [
        {
          "output_type": "stream",
          "name": "stdout",
          "text": [
            "Length of key element is : 4\n",
            "Key element is : student_id  and the corresponding value is : 1000\n",
            "Key element is : course_registered  and the corresponding value is : Python Programming\n",
            "Key element is : credit_points  and the corresponding value is : 4.0\n",
            "Key element is : is_course_online  and the corresponding value is : True\n"
          ]
        }
      ]
    },
    {
      "cell_type": "code",
      "source": [
        "my_dict = { \"student_id\" : 1000 \n",
        "           ,\"course_registered\" : \"Python Programming\"\n",
        "           ,\"credit_points\" : 4.0 \n",
        "           ,\"is_course_online\" : True\n",
        "           }\n",
        "\n",
        "i=0\n",
        "items = iter(my_dict.items())\n",
        "print(items)\n",
        "\n",
        "while(i<len(my_dict.keys())):\n",
        "  try:\n",
        "    item=next(items)\n",
        "    print(*item)\n",
        "  except StopIteration:\n",
        "    break"
      ],
      "metadata": {
        "colab": {
          "base_uri": "https://localhost:8080/"
        },
        "id": "s980PrFdJ00P",
        "outputId": "80ed1c26-2366-4752-dc79-e303a44557c3"
      },
      "execution_count": 35,
      "outputs": [
        {
          "output_type": "stream",
          "name": "stdout",
          "text": [
            "<dict_itemiterator object at 0x7f40a3e50830>\n",
            "student_id 1000\n",
            "course_registered Python Programming\n",
            "credit_points 4.0\n",
            "is_course_online True\n"
          ]
        }
      ]
    },
    {
      "cell_type": "code",
      "source": [
        "mystr='Python'\n",
        "new_str=''\n",
        "\n",
        "print('Length of the string :', len(mystr))\n",
        "i=0\n",
        "while(i<len(mystr)):\n",
        "  #print('Characters from the string are :', mystr[i])\n",
        "  new_str = new_str + '-' + mystr[i] \n",
        "  i=i+1\n",
        "print(new_str[1:])\n",
        "\n",
        "\n"
      ],
      "metadata": {
        "colab": {
          "base_uri": "https://localhost:8080/"
        },
        "id": "cb02B7zrQ8LP",
        "outputId": "3260bb90-151b-4bba-8543-da03a19dd4d9"
      },
      "execution_count": 63,
      "outputs": [
        {
          "output_type": "stream",
          "name": "stdout",
          "text": [
            "Length of the string : 6\n",
            "P-y-t-h-o-n\n"
          ]
        }
      ]
    }
  ]
}