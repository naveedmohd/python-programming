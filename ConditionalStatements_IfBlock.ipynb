{
  "nbformat": 4,
  "nbformat_minor": 0,
  "metadata": {
    "colab": {
      "provenance": [],
      "authorship_tag": "ABX9TyOlqftO4gp9r9ilLeYbe/pt",
      "include_colab_link": true
    },
    "kernelspec": {
      "name": "python3",
      "display_name": "Python 3"
    },
    "language_info": {
      "name": "python"
    }
  },
  "cells": [
    {
      "cell_type": "markdown",
      "metadata": {
        "id": "view-in-github",
        "colab_type": "text"
      },
      "source": [
        "<a href=\"https://colab.research.google.com/github/naveedmohd/python-programming/blob/release/ConditionalStatements_IfBlock.ipynb\" target=\"_parent\"><img src=\"https://colab.research.google.com/assets/colab-badge.svg\" alt=\"Open In Colab\"/></a>"
      ]
    },
    {
      "cell_type": "code",
      "execution_count": 2,
      "metadata": {
        "colab": {
          "base_uri": "https://localhost:8080/"
        },
        "id": "k5wIhz5K-FAY",
        "outputId": "271d6e7f-f4da-4b19-8420-539ae1bfedce"
      },
      "outputs": [
        {
          "output_type": "stream",
          "name": "stdout",
          "text": [
            "Printing Value of X as : 10\n"
          ]
        }
      ],
      "source": [
        "if(True):\n",
        "  x=10\n",
        "  print('Printing Value of X as :',x)\n"
      ]
    },
    {
      "cell_type": "code",
      "source": [
        "if(False):\n",
        "  x=10\n",
        "  print('Printing Value of X as :',x)\n"
      ],
      "metadata": {
        "id": "yfEth026-pN7"
      },
      "execution_count": 3,
      "outputs": []
    },
    {
      "cell_type": "code",
      "source": [
        "if(5>0 and 10>5):\n",
        "  print('Both conditions are evaluating to true')"
      ],
      "metadata": {
        "colab": {
          "base_uri": "https://localhost:8080/"
        },
        "id": "D20vEyPT--Mg",
        "outputId": "7e4f3d8f-21d7-45ab-b33e-54b4d6a39c73"
      },
      "execution_count": 4,
      "outputs": [
        {
          "output_type": "stream",
          "name": "stdout",
          "text": [
            "Both conditions are evaluating to true\n"
          ]
        }
      ]
    },
    {
      "cell_type": "code",
      "source": [
        "if(5>0 and 10>20):\n",
        "  print('Both conditions are evaluating to true')"
      ],
      "metadata": {
        "id": "fr8CBuwZ_TUc"
      },
      "execution_count": 6,
      "outputs": []
    },
    {
      "cell_type": "code",
      "source": [
        "if(5>0 or 10>20):\n",
        "  print('One of conditions is evaluating to true')"
      ],
      "metadata": {
        "colab": {
          "base_uri": "https://localhost:8080/"
        },
        "id": "0Exedw0B_j-5",
        "outputId": "eb294949-24e2-4add-cccf-adb1f6335ee5"
      },
      "execution_count": 7,
      "outputs": [
        {
          "output_type": "stream",
          "name": "stdout",
          "text": [
            "One of conditions is evaluating to true\n"
          ]
        }
      ]
    },
    {
      "cell_type": "code",
      "source": [
        "if len('python')==6:\n",
        "  x=10+5\n",
        "  print('Length of python string is 6, and value of x is: ', x)"
      ],
      "metadata": {
        "colab": {
          "base_uri": "https://localhost:8080/"
        },
        "id": "XZOS583T_9rr",
        "outputId": "19dc7e2c-426c-40b9-efc7-9bf3491c0101"
      },
      "execution_count": 10,
      "outputs": [
        {
          "output_type": "stream",
          "name": "stdout",
          "text": [
            "Length of python string is 6, and value of x is:  15\n"
          ]
        }
      ]
    },
    {
      "cell_type": "code",
      "source": [
        "if(1>0):\n",
        "  x=10\n",
        "  y=x+10\n",
        "  z=y+10\n",
        "  print('Values of x , y z are :',x, y, z)"
      ],
      "metadata": {
        "colab": {
          "base_uri": "https://localhost:8080/"
        },
        "id": "iKv3koAlAmn6",
        "outputId": "1a19b465-cc84-4d2c-b914-e15790653dde"
      },
      "execution_count": 11,
      "outputs": [
        {
          "output_type": "stream",
          "name": "stdout",
          "text": [
            "Values of x , y z are : 10 20 30\n"
          ]
        }
      ]
    }
  ]
}