{
  "nbformat": 4,
  "nbformat_minor": 0,
  "metadata": {
    "colab": {
      "provenance": [],
      "authorship_tag": "ABX9TyMJXcmz8uNlpt+jcZzaoUdR",
      "include_colab_link": true
    },
    "kernelspec": {
      "name": "python3",
      "display_name": "Python 3"
    },
    "language_info": {
      "name": "python"
    }
  },
  "cells": [
    {
      "cell_type": "markdown",
      "metadata": {
        "id": "view-in-github",
        "colab_type": "text"
      },
      "source": [
        "<a href=\"https://colab.research.google.com/github/naveedmohd/python-programming/blob/release/ConditionalStatements_If_elif_else_Block.ipynb\" target=\"_parent\"><img src=\"https://colab.research.google.com/assets/colab-badge.svg\" alt=\"Open In Colab\"/></a>"
      ]
    },
    {
      "cell_type": "code",
      "source": [
        "if (len('python')==6 and len('java')==5):\n",
        "  x=10+5\n",
        "  print('Length of python string is 6, and value of x is: ', x)\n",
        "elif (len('python')==6):\n",
        "  print('Printing from Else If Block...')"
      ],
      "metadata": {
        "colab": {
          "base_uri": "https://localhost:8080/"
        },
        "id": "XZOS583T_9rr",
        "outputId": "e6a65b1b-1446-4c6d-8297-df3699fd8a25"
      },
      "execution_count": 2,
      "outputs": [
        {
          "output_type": "stream",
          "name": "stdout",
          "text": [
            "Printing from Else If Block...\n"
          ]
        }
      ]
    },
    {
      "cell_type": "code",
      "source": [
        "if (len('python')==6 and len('java')==5):\n",
        "  x=10+5\n",
        "  print('Length of python string is 6, and value of x is: ', x)\n",
        "elif (len('python')==6 and len('CloudComputing')==10):\n",
        "  print('Printing from Else If Block...')\n",
        "else:\n",
        "  x=10\n",
        "  y=x+10\n",
        "  z=y+10\n",
        "  print('All above blocks are returning False.. Prining now from ELSE block, also values of x, y, z are..',x, y, z)"
      ],
      "metadata": {
        "colab": {
          "base_uri": "https://localhost:8080/"
        },
        "id": "ijGz_kErMMXk",
        "outputId": "11d93221-79d9-4024-b7c9-f66e7cccb23a"
      },
      "execution_count": 5,
      "outputs": [
        {
          "output_type": "stream",
          "name": "stdout",
          "text": [
            "All above blocks are returning False.. Prining now from ELSE block, also values of x, y, z are.. 10 20 30\n"
          ]
        }
      ]
    },
    {
      "cell_type": "code",
      "source": [
        "if(True):x=10;x=x+20\n",
        "print(x)"
      ],
      "metadata": {
        "colab": {
          "base_uri": "https://localhost:8080/"
        },
        "id": "I297lhivNO07",
        "outputId": "67530e40-69e9-400b-dd9c-60a0fe82d8da"
      },
      "execution_count": 1,
      "outputs": [
        {
          "output_type": "stream",
          "name": "stdout",
          "text": [
            "30\n"
          ]
        }
      ]
    }
  ]
}