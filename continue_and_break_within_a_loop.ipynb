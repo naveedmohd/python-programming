{
  "nbformat": 4,
  "nbformat_minor": 0,
  "metadata": {
    "colab": {
      "provenance": [],
      "authorship_tag": "ABX9TyOG5muty8bSpNYYMvoH3oj4",
      "include_colab_link": true
    },
    "kernelspec": {
      "name": "python3",
      "display_name": "Python 3"
    },
    "language_info": {
      "name": "python"
    }
  },
  "cells": [
    {
      "cell_type": "markdown",
      "metadata": {
        "id": "view-in-github",
        "colab_type": "text"
      },
      "source": [
        "<a href=\"https://colab.research.google.com/github/naveedmohd/python-programming/blob/release/continue_and_break_within_a_loop.ipynb\" target=\"_parent\"><img src=\"https://colab.research.google.com/assets/colab-badge.svg\" alt=\"Open In Colab\"/></a>"
      ]
    },
    {
      "cell_type": "code",
      "execution_count": null,
      "metadata": {
        "colab": {
          "base_uri": "https://localhost:8080/"
        },
        "id": "AFnEN1hOL0qO",
        "outputId": "63772cd7-a9b4-42d2-c682-713670e33b1d"
      },
      "outputs": [
        {
          "output_type": "stream",
          "name": "stdout",
          "text": [
            "0\n",
            "1\n",
            "2\n",
            "3\n",
            "4\n",
            "6\n",
            "7\n",
            "8\n",
            "9\n"
          ]
        }
      ],
      "source": [
        "elements = [0,1,2,3,4,5,6,7,8,9]\n",
        "for i in elements:\n",
        "  if i==5:\n",
        "    continue\n",
        "  else:\n",
        "    print(i)"
      ]
    },
    {
      "cell_type": "code",
      "source": [
        "num_scores=[10,20,30,45,50,60,70,80,90,100]\n",
        "sum_scores=0\n",
        "for i in range(len(num_scores)):\n",
        "     print('sum_score is :',sum_scores)\n",
        "     if(sum_scores >= 100):\n",
        "        print(sum_scores , ' is greater than 100 :', ' Continuing to skip this iteration for: ', num_scores[i])\n",
        "        continue\n",
        "     else:\n",
        "       sum_scores+=num_scores[i]\n",
        "       print('sum_score in else block is:',sum_scores)\n"
      ],
      "metadata": {
        "colab": {
          "base_uri": "https://localhost:8080/"
        },
        "id": "8wiuITauMdkZ",
        "outputId": "e707d854-b9f7-4ce9-8c34-1d0ec640135f"
      },
      "execution_count": null,
      "outputs": [
        {
          "output_type": "stream",
          "name": "stdout",
          "text": [
            "sum_score is : 0\n",
            "sum_score in else block is: 10\n",
            "sum_score is : 10\n",
            "sum_score in else block is: 30\n",
            "sum_score is : 30\n",
            "sum_score in else block is: 60\n",
            "sum_score is : 60\n",
            "sum_score in else block is: 105\n",
            "sum_score is : 105\n",
            "105  is greater than 100 :  Continuing to skip this iteration for:  50\n",
            "sum_score is : 105\n",
            "105  is greater than 100 :  Continuing to skip this iteration for:  60\n",
            "sum_score is : 105\n",
            "105  is greater than 100 :  Continuing to skip this iteration for:  70\n",
            "sum_score is : 105\n",
            "105  is greater than 100 :  Continuing to skip this iteration for:  80\n",
            "sum_score is : 105\n",
            "105  is greater than 100 :  Continuing to skip this iteration for:  90\n",
            "sum_score is : 105\n",
            "105  is greater than 100 :  Continuing to skip this iteration for:  100\n"
          ]
        }
      ]
    },
    {
      "cell_type": "code",
      "source": [
        "elements = [0,1,2,3,4,5,6,7,8,9]\n",
        "for i in elements:\n",
        "  if i==5:\n",
        "    break\n",
        "  else:\n",
        "    print(i)"
      ],
      "metadata": {
        "colab": {
          "base_uri": "https://localhost:8080/"
        },
        "id": "Pdmezc9SNJCy",
        "outputId": "a0dab896-6b38-4ce2-da98-6c9382377c10"
      },
      "execution_count": null,
      "outputs": [
        {
          "output_type": "stream",
          "name": "stdout",
          "text": [
            "0\n",
            "1\n",
            "2\n",
            "3\n",
            "4\n"
          ]
        }
      ]
    },
    {
      "cell_type": "code",
      "source": [
        "num_scores=[10,20,30,45,50,60,70,80,90,100]\n",
        "sum_scores=0\n",
        "for i in range(len(num_scores)):\n",
        "     print('sum_score is :',sum_scores)\n",
        "     if(sum_scores >= 100):\n",
        "        print(sum_scores , ' is greater than 100 :', ' Continuing to skip this iteration for: ', num_scores[i])\n",
        "        break\n",
        "     else:\n",
        "       sum_scores+=num_scores[i]\n",
        "       print('sum_score in else block is:',sum_scores)\n"
      ],
      "metadata": {
        "id": "RDkWxhKMNREs",
        "outputId": "169bcbfd-38a4-45fe-9086-a51fe6d4c2fe",
        "colab": {
          "base_uri": "https://localhost:8080/"
        }
      },
      "execution_count": null,
      "outputs": [
        {
          "output_type": "stream",
          "name": "stdout",
          "text": [
            "sum_score is : 0\n",
            "sum_score in else block is: 10\n",
            "sum_score is : 10\n",
            "sum_score in else block is: 30\n",
            "sum_score is : 30\n",
            "sum_score in else block is: 60\n",
            "sum_score is : 60\n",
            "sum_score in else block is: 105\n",
            "sum_score is : 105\n",
            "105  is greater than 100 :  Continuing to skip this iteration for:  50\n"
          ]
        }
      ]
    }
  ]
}