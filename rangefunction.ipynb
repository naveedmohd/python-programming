{
  "nbformat": 4,
  "nbformat_minor": 0,
  "metadata": {
    "colab": {
      "provenance": [],
      "authorship_tag": "ABX9TyNCA3cwvWaoBWYoIb+Kj1mr",
      "include_colab_link": true
    },
    "kernelspec": {
      "name": "python3",
      "display_name": "Python 3"
    },
    "language_info": {
      "name": "python"
    }
  },
  "cells": [
    {
      "cell_type": "markdown",
      "metadata": {
        "id": "view-in-github",
        "colab_type": "text"
      },
      "source": [
        "<a href=\"https://colab.research.google.com/github/naveedmohd/python-programming/blob/release/rangefunction.ipynb\" target=\"_parent\"><img src=\"https://colab.research.google.com/assets/colab-badge.svg\" alt=\"Open In Colab\"/></a>"
      ]
    },
    {
      "cell_type": "code",
      "execution_count": null,
      "metadata": {
        "colab": {
          "base_uri": "https://localhost:8080/"
        },
        "id": "0nZ3aWfs5hkB",
        "outputId": "cce0c6cb-53b9-4f07-d088-74f5081bf86b"
      },
      "outputs": [
        {
          "output_type": "stream",
          "name": "stdout",
          "text": [
            "Hello\n",
            "Hello\n",
            "Hello\n"
          ]
        }
      ],
      "source": [
        "for i in range(3):\n",
        "  print(\"Hello\")"
      ]
    },
    {
      "cell_type": "code",
      "source": [
        "for i in range(0,3,1):\n",
        "  print(\"Hello\")"
      ],
      "metadata": {
        "colab": {
          "base_uri": "https://localhost:8080/"
        },
        "id": "eXukBcyk5tPO",
        "outputId": "65a4fc52-4be1-4f51-8a86-d970b08b5515"
      },
      "execution_count": null,
      "outputs": [
        {
          "output_type": "stream",
          "name": "stdout",
          "text": [
            "Hello\n",
            "Hello\n",
            "Hello\n"
          ]
        }
      ]
    },
    {
      "cell_type": "code",
      "source": [
        "for i in range(2,3):\n",
        "  print('Value of i is :',i)"
      ],
      "metadata": {
        "colab": {
          "base_uri": "https://localhost:8080/"
        },
        "id": "zLTfCR7v51h4",
        "outputId": "3866fe08-7a67-4708-aa9d-9965780b96c6"
      },
      "execution_count": null,
      "outputs": [
        {
          "output_type": "stream",
          "name": "stdout",
          "text": [
            "Value of i is : 2\n"
          ]
        }
      ]
    },
    {
      "cell_type": "code",
      "source": [
        "for i in range(1,10,3):\n",
        "  print('Value of i is :',i)"
      ],
      "metadata": {
        "colab": {
          "base_uri": "https://localhost:8080/"
        },
        "id": "q2xfuRBB5_Xm",
        "outputId": "caf802ba-ce53-4a59-fe25-7710c2aad53b"
      },
      "execution_count": null,
      "outputs": [
        {
          "output_type": "stream",
          "name": "stdout",
          "text": [
            "Value of i is : 1\n",
            "Value of i is : 4\n",
            "Value of i is : 7\n"
          ]
        }
      ]
    },
    {
      "cell_type": "code",
      "source": [
        "for i in range(0,5,2):\n",
        "  print('Value of i is :',i)"
      ],
      "metadata": {
        "colab": {
          "base_uri": "https://localhost:8080/"
        },
        "id": "0HWor4F56M9J",
        "outputId": "17835553-66e7-436f-bb1e-ca269acff5ae"
      },
      "execution_count": null,
      "outputs": [
        {
          "output_type": "stream",
          "name": "stdout",
          "text": [
            "Value of i is : 0\n",
            "Value of i is : 2\n",
            "Value of i is : 4\n"
          ]
        }
      ]
    },
    {
      "cell_type": "code",
      "source": [
        "weekdays=[\"Monday\",\"Tuesday\",\"Wednesday\",\"Thursday\",\"Friday\",\"Saturday\",\"Sunday\"]\n",
        "print(weekdays)\n",
        "\n",
        "for i in range(len(weekdays)):\n",
        "  print(\"Value of i is :\", i)"
      ],
      "metadata": {
        "colab": {
          "base_uri": "https://localhost:8080/"
        },
        "id": "4hOZt4dT8raP",
        "outputId": "cc0d8b03-cd6f-4d5a-f978-6ca09c0d301c"
      },
      "execution_count": null,
      "outputs": [
        {
          "output_type": "stream",
          "name": "stdout",
          "text": [
            "['Monday', 'Tuesday', 'Wednesday', 'Thursday', 'Friday', 'Saturday', 'Sunday']\n",
            "Value of i is : 0\n",
            "Value of i is : 1\n",
            "Value of i is : 2\n",
            "Value of i is : 3\n",
            "Value of i is : 4\n",
            "Value of i is : 5\n",
            "Value of i is : 6\n"
          ]
        }
      ]
    },
    {
      "cell_type": "code",
      "source": [
        "weekdays=[\"Monday\",\"Tuesday\",\"Wednesday\",\"Thursday\",\"Friday\",\"Saturday\",\"Sunday\"]\n",
        "print(weekdays)\n",
        "\n",
        "for i in range(len(weekdays)):\n",
        "  print(weekdays[i], ' is the day of the week.')"
      ],
      "metadata": {
        "colab": {
          "base_uri": "https://localhost:8080/"
        },
        "id": "M-FHDt829IfH",
        "outputId": "1ac9f280-ee88-4cd0-8962-f2a5bca67b51"
      },
      "execution_count": null,
      "outputs": [
        {
          "output_type": "stream",
          "name": "stdout",
          "text": [
            "['Monday', 'Tuesday', 'Wednesday', 'Thursday', 'Friday', 'Saturday', 'Sunday']\n",
            "Monday  is the day of the week.\n",
            "Tuesday  is the day of the week.\n",
            "Wednesday  is the day of the week.\n",
            "Thursday  is the day of the week.\n",
            "Friday  is the day of the week.\n",
            "Saturday  is the day of the week.\n",
            "Sunday  is the day of the week.\n"
          ]
        }
      ]
    },
    {
      "cell_type": "code",
      "source": [
        "weekdays= ((\"Monday\",\"01\"),(\"Tuesday\",\"02\"),(\"Wednesday\",\"03\")\n",
        "                    ,(\"Thursday\",\"04\"),(\"Friday\",\"05\"),(\"Saturday\",\"06\"),(\"Sunday\",\"07\"))\n",
        "\n",
        "print(weekdays)\n",
        "\n",
        "for i in range(len(weekdays)):\n",
        "  print(weekdays[i], ' is the day of the week retrieved from the tuple.')"
      ],
      "metadata": {
        "colab": {
          "base_uri": "https://localhost:8080/"
        },
        "id": "YVvA0oub9cXE",
        "outputId": "2c0221b1-f0f3-4594-bfcd-83b3d178a4bd"
      },
      "execution_count": null,
      "outputs": [
        {
          "output_type": "stream",
          "name": "stdout",
          "text": [
            "(('Monday', '01'), ('Tuesday', '02'), ('Wednesday', '03'), ('Thursday', '04'), ('Friday', '05'), ('Saturday', '06'), ('Sunday', '07'))\n",
            "('Monday', '01')  is the day of the week retrieved from the tuple.\n",
            "('Tuesday', '02')  is the day of the week retrieved from the tuple.\n",
            "('Wednesday', '03')  is the day of the week retrieved from the tuple.\n",
            "('Thursday', '04')  is the day of the week retrieved from the tuple.\n",
            "('Friday', '05')  is the day of the week retrieved from the tuple.\n",
            "('Saturday', '06')  is the day of the week retrieved from the tuple.\n",
            "('Sunday', '07')  is the day of the week retrieved from the tuple.\n"
          ]
        }
      ]
    }
  ]
}